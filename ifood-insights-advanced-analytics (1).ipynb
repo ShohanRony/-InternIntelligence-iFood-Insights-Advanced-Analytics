{
 "cells": [
  {
   "cell_type": "markdown",
   "id": "6db7f094",
   "metadata": {
    "papermill": {
     "duration": 0.00366,
     "end_time": "2025-03-23T17:53:06.111760",
     "exception": false,
     "start_time": "2025-03-23T17:53:06.108100",
     "status": "completed"
    },
    "tags": []
   },
   "source": [
    "# Comprehensive Data Analysis on iFood Data\n",
    "\n",
    "Welcome to this exploratory and statistical analysis of the iFood dataset. In this notebook, we will examine various financial behaviors, explore data distributions, correlations, and apply statistical tests to derive meaningful insights.\n",
    "\n",
    "## Objectives:\n",
    "- Visualize data distributions\n",
    "- Identify correlations between financial metrics\n",
    "- Perform hypothesis testing\n",
    "- Conduct regression analysis\n",
    "- Apply factor analysis\n"
   ]
  },
  {
   "cell_type": "code",
   "execution_count": 1,
   "id": "52a2096c",
   "metadata": {
    "execution": {
     "iopub.execute_input": "2025-03-23T17:53:06.119735Z",
     "iopub.status.busy": "2025-03-23T17:53:06.119244Z",
     "iopub.status.idle": "2025-03-23T17:53:09.048150Z",
     "shell.execute_reply": "2025-03-23T17:53:09.047077Z"
    },
    "papermill": {
     "duration": 2.934828,
     "end_time": "2025-03-23T17:53:09.049987",
     "exception": false,
     "start_time": "2025-03-23T17:53:06.115159",
     "status": "completed"
    },
    "tags": []
   },
   "outputs": [],
   "source": [
    "import pandas as pd\n",
    "import numpy as np\n",
    "import seaborn as sns\n",
    "import matplotlib.pyplot as plt\n",
    "from scipy import stats\n",
    "from sklearn.decomposition import FactorAnalysis\n",
    "from sklearn.linear_model import LinearRegression\n",
    "\n",
    "# Display settings for better readability in the notebook\n",
    "pd.set_option('display.max_columns', None)\n",
    "pd.set_option('display.width', 1000)\n",
    "sns.set(style=\"whitegrid\")"
   ]
  },
  {
   "cell_type": "markdown",
   "id": "1fecda15",
   "metadata": {
    "papermill": {
     "duration": 0.00289,
     "end_time": "2025-03-23T17:53:09.056263",
     "exception": false,
     "start_time": "2025-03-23T17:53:09.053373",
     "status": "completed"
    },
    "tags": []
   },
   "source": [
    "\n",
    "## Data Loading and Overview\n",
    "Here we load the dataset and give a brief overview of its structure:\n",
    "- Preview the data\n",
    "- Check for missing values and data types\n"
   ]
  },
  {
   "cell_type": "code",
   "execution_count": 2,
   "id": "c3dfba54",
   "metadata": {
    "execution": {
     "iopub.execute_input": "2025-03-23T17:53:09.064201Z",
     "iopub.status.busy": "2025-03-23T17:53:09.063570Z",
     "iopub.status.idle": "2025-03-23T17:53:09.138954Z",
     "shell.execute_reply": "2025-03-23T17:53:09.137828Z"
    },
    "papermill": {
     "duration": 0.081201,
     "end_time": "2025-03-23T17:53:09.140673",
     "exception": false,
     "start_time": "2025-03-23T17:53:09.059472",
     "status": "completed"
    },
    "tags": []
   },
   "outputs": [
    {
     "data": {
      "text/html": [
       "<div>\n",
       "<style scoped>\n",
       "    .dataframe tbody tr th:only-of-type {\n",
       "        vertical-align: middle;\n",
       "    }\n",
       "\n",
       "    .dataframe tbody tr th {\n",
       "        vertical-align: top;\n",
       "    }\n",
       "\n",
       "    .dataframe thead th {\n",
       "        text-align: right;\n",
       "    }\n",
       "</style>\n",
       "<table border=\"1\" class=\"dataframe\">\n",
       "  <thead>\n",
       "    <tr style=\"text-align: right;\">\n",
       "      <th></th>\n",
       "      <th>Income</th>\n",
       "      <th>Kidhome</th>\n",
       "      <th>Teenhome</th>\n",
       "      <th>Recency</th>\n",
       "      <th>MntWines</th>\n",
       "      <th>MntFruits</th>\n",
       "      <th>MntMeatProducts</th>\n",
       "      <th>MntFishProducts</th>\n",
       "      <th>MntSweetProducts</th>\n",
       "      <th>MntGoldProds</th>\n",
       "      <th>NumDealsPurchases</th>\n",
       "      <th>NumWebPurchases</th>\n",
       "      <th>NumCatalogPurchases</th>\n",
       "      <th>NumStorePurchases</th>\n",
       "      <th>NumWebVisitsMonth</th>\n",
       "      <th>AcceptedCmp3</th>\n",
       "      <th>AcceptedCmp4</th>\n",
       "      <th>AcceptedCmp5</th>\n",
       "      <th>AcceptedCmp1</th>\n",
       "      <th>AcceptedCmp2</th>\n",
       "      <th>Complain</th>\n",
       "      <th>Z_CostContact</th>\n",
       "      <th>Z_Revenue</th>\n",
       "      <th>Response</th>\n",
       "      <th>Age</th>\n",
       "      <th>Customer_Days</th>\n",
       "      <th>marital_Divorced</th>\n",
       "      <th>marital_Married</th>\n",
       "      <th>marital_Single</th>\n",
       "      <th>marital_Together</th>\n",
       "      <th>marital_Widow</th>\n",
       "      <th>education_2n Cycle</th>\n",
       "      <th>education_Basic</th>\n",
       "      <th>education_Graduation</th>\n",
       "      <th>education_Master</th>\n",
       "      <th>education_PhD</th>\n",
       "      <th>MntTotal</th>\n",
       "      <th>MntRegularProds</th>\n",
       "      <th>AcceptedCmpOverall</th>\n",
       "    </tr>\n",
       "  </thead>\n",
       "  <tbody>\n",
       "    <tr>\n",
       "      <th>0</th>\n",
       "      <td>58138.0</td>\n",
       "      <td>0</td>\n",
       "      <td>0</td>\n",
       "      <td>58</td>\n",
       "      <td>635</td>\n",
       "      <td>88</td>\n",
       "      <td>546</td>\n",
       "      <td>172</td>\n",
       "      <td>88</td>\n",
       "      <td>88</td>\n",
       "      <td>3</td>\n",
       "      <td>8</td>\n",
       "      <td>10</td>\n",
       "      <td>4</td>\n",
       "      <td>7</td>\n",
       "      <td>0</td>\n",
       "      <td>0</td>\n",
       "      <td>0</td>\n",
       "      <td>0</td>\n",
       "      <td>0</td>\n",
       "      <td>0</td>\n",
       "      <td>3</td>\n",
       "      <td>11</td>\n",
       "      <td>1</td>\n",
       "      <td>63</td>\n",
       "      <td>2822</td>\n",
       "      <td>0</td>\n",
       "      <td>0</td>\n",
       "      <td>1</td>\n",
       "      <td>0</td>\n",
       "      <td>0</td>\n",
       "      <td>0</td>\n",
       "      <td>0</td>\n",
       "      <td>1</td>\n",
       "      <td>0</td>\n",
       "      <td>0</td>\n",
       "      <td>1529</td>\n",
       "      <td>1441</td>\n",
       "      <td>0</td>\n",
       "    </tr>\n",
       "    <tr>\n",
       "      <th>1</th>\n",
       "      <td>46344.0</td>\n",
       "      <td>1</td>\n",
       "      <td>1</td>\n",
       "      <td>38</td>\n",
       "      <td>11</td>\n",
       "      <td>1</td>\n",
       "      <td>6</td>\n",
       "      <td>2</td>\n",
       "      <td>1</td>\n",
       "      <td>6</td>\n",
       "      <td>2</td>\n",
       "      <td>1</td>\n",
       "      <td>1</td>\n",
       "      <td>2</td>\n",
       "      <td>5</td>\n",
       "      <td>0</td>\n",
       "      <td>0</td>\n",
       "      <td>0</td>\n",
       "      <td>0</td>\n",
       "      <td>0</td>\n",
       "      <td>0</td>\n",
       "      <td>3</td>\n",
       "      <td>11</td>\n",
       "      <td>0</td>\n",
       "      <td>66</td>\n",
       "      <td>2272</td>\n",
       "      <td>0</td>\n",
       "      <td>0</td>\n",
       "      <td>1</td>\n",
       "      <td>0</td>\n",
       "      <td>0</td>\n",
       "      <td>0</td>\n",
       "      <td>0</td>\n",
       "      <td>1</td>\n",
       "      <td>0</td>\n",
       "      <td>0</td>\n",
       "      <td>21</td>\n",
       "      <td>15</td>\n",
       "      <td>0</td>\n",
       "    </tr>\n",
       "    <tr>\n",
       "      <th>2</th>\n",
       "      <td>71613.0</td>\n",
       "      <td>0</td>\n",
       "      <td>0</td>\n",
       "      <td>26</td>\n",
       "      <td>426</td>\n",
       "      <td>49</td>\n",
       "      <td>127</td>\n",
       "      <td>111</td>\n",
       "      <td>21</td>\n",
       "      <td>42</td>\n",
       "      <td>1</td>\n",
       "      <td>8</td>\n",
       "      <td>2</td>\n",
       "      <td>10</td>\n",
       "      <td>4</td>\n",
       "      <td>0</td>\n",
       "      <td>0</td>\n",
       "      <td>0</td>\n",
       "      <td>0</td>\n",
       "      <td>0</td>\n",
       "      <td>0</td>\n",
       "      <td>3</td>\n",
       "      <td>11</td>\n",
       "      <td>0</td>\n",
       "      <td>55</td>\n",
       "      <td>2471</td>\n",
       "      <td>0</td>\n",
       "      <td>0</td>\n",
       "      <td>0</td>\n",
       "      <td>1</td>\n",
       "      <td>0</td>\n",
       "      <td>0</td>\n",
       "      <td>0</td>\n",
       "      <td>1</td>\n",
       "      <td>0</td>\n",
       "      <td>0</td>\n",
       "      <td>734</td>\n",
       "      <td>692</td>\n",
       "      <td>0</td>\n",
       "    </tr>\n",
       "    <tr>\n",
       "      <th>3</th>\n",
       "      <td>26646.0</td>\n",
       "      <td>1</td>\n",
       "      <td>0</td>\n",
       "      <td>26</td>\n",
       "      <td>11</td>\n",
       "      <td>4</td>\n",
       "      <td>20</td>\n",
       "      <td>10</td>\n",
       "      <td>3</td>\n",
       "      <td>5</td>\n",
       "      <td>2</td>\n",
       "      <td>2</td>\n",
       "      <td>0</td>\n",
       "      <td>4</td>\n",
       "      <td>6</td>\n",
       "      <td>0</td>\n",
       "      <td>0</td>\n",
       "      <td>0</td>\n",
       "      <td>0</td>\n",
       "      <td>0</td>\n",
       "      <td>0</td>\n",
       "      <td>3</td>\n",
       "      <td>11</td>\n",
       "      <td>0</td>\n",
       "      <td>36</td>\n",
       "      <td>2298</td>\n",
       "      <td>0</td>\n",
       "      <td>0</td>\n",
       "      <td>0</td>\n",
       "      <td>1</td>\n",
       "      <td>0</td>\n",
       "      <td>0</td>\n",
       "      <td>0</td>\n",
       "      <td>1</td>\n",
       "      <td>0</td>\n",
       "      <td>0</td>\n",
       "      <td>48</td>\n",
       "      <td>43</td>\n",
       "      <td>0</td>\n",
       "    </tr>\n",
       "    <tr>\n",
       "      <th>4</th>\n",
       "      <td>58293.0</td>\n",
       "      <td>1</td>\n",
       "      <td>0</td>\n",
       "      <td>94</td>\n",
       "      <td>173</td>\n",
       "      <td>43</td>\n",
       "      <td>118</td>\n",
       "      <td>46</td>\n",
       "      <td>27</td>\n",
       "      <td>15</td>\n",
       "      <td>5</td>\n",
       "      <td>5</td>\n",
       "      <td>3</td>\n",
       "      <td>6</td>\n",
       "      <td>5</td>\n",
       "      <td>0</td>\n",
       "      <td>0</td>\n",
       "      <td>0</td>\n",
       "      <td>0</td>\n",
       "      <td>0</td>\n",
       "      <td>0</td>\n",
       "      <td>3</td>\n",
       "      <td>11</td>\n",
       "      <td>0</td>\n",
       "      <td>39</td>\n",
       "      <td>2320</td>\n",
       "      <td>0</td>\n",
       "      <td>1</td>\n",
       "      <td>0</td>\n",
       "      <td>0</td>\n",
       "      <td>0</td>\n",
       "      <td>0</td>\n",
       "      <td>0</td>\n",
       "      <td>0</td>\n",
       "      <td>0</td>\n",
       "      <td>1</td>\n",
       "      <td>407</td>\n",
       "      <td>392</td>\n",
       "      <td>0</td>\n",
       "    </tr>\n",
       "  </tbody>\n",
       "</table>\n",
       "</div>"
      ],
      "text/plain": [
       "    Income  Kidhome  Teenhome  Recency  MntWines  MntFruits  MntMeatProducts  MntFishProducts  MntSweetProducts  MntGoldProds  NumDealsPurchases  NumWebPurchases  NumCatalogPurchases  NumStorePurchases  NumWebVisitsMonth  AcceptedCmp3  AcceptedCmp4  AcceptedCmp5  AcceptedCmp1  AcceptedCmp2  Complain  Z_CostContact  Z_Revenue  Response  Age  Customer_Days  marital_Divorced  marital_Married  marital_Single  marital_Together  marital_Widow  education_2n Cycle  education_Basic  education_Graduation  education_Master  education_PhD  MntTotal  MntRegularProds  AcceptedCmpOverall\n",
       "0  58138.0        0         0       58       635         88              546              172                88            88                  3                8                   10                  4                  7             0             0             0             0             0         0              3         11         1   63           2822                 0                0               1                 0              0                   0                0                     1                 0              0      1529             1441                   0\n",
       "1  46344.0        1         1       38        11          1                6                2                 1             6                  2                1                    1                  2                  5             0             0             0             0             0         0              3         11         0   66           2272                 0                0               1                 0              0                   0                0                     1                 0              0        21               15                   0\n",
       "2  71613.0        0         0       26       426         49              127              111                21            42                  1                8                    2                 10                  4             0             0             0             0             0         0              3         11         0   55           2471                 0                0               0                 1              0                   0                0                     1                 0              0       734              692                   0\n",
       "3  26646.0        1         0       26        11          4               20               10                 3             5                  2                2                    0                  4                  6             0             0             0             0             0         0              3         11         0   36           2298                 0                0               0                 1              0                   0                0                     1                 0              0        48               43                   0\n",
       "4  58293.0        1         0       94       173         43              118               46                27            15                  5                5                    3                  6                  5             0             0             0             0             0         0              3         11         0   39           2320                 0                1               0                 0              0                   0                0                     0                 0              1       407              392                   0"
      ]
     },
     "execution_count": 2,
     "metadata": {},
     "output_type": "execute_result"
    }
   ],
   "source": [
    "# Load the dataset\n",
    "data_path = '/kaggle/input/marketing-data/ifood_df.csv'\n",
    "df = pd.read_csv(data_path)\n",
    "df.head()"
   ]
  },
  {
   "cell_type": "markdown",
   "id": "b9a4a335",
   "metadata": {
    "papermill": {
     "duration": 0.003093,
     "end_time": "2025-03-23T17:53:09.147368",
     "exception": false,
     "start_time": "2025-03-23T17:53:09.144275",
     "status": "completed"
    },
    "tags": []
   },
   "source": [
    "\n",
    "## Data Exploration\n",
    "### Visualizing Data Distributions\n",
    "Explore how key variables are distributed across the dataset and identify any outliers.\n",
    "\n",
    "### Correlation Analysis\n",
    "Visualize the correlations between different financial metrics to uncover any significant relationships.\n"
   ]
  },
  {
   "cell_type": "code",
   "execution_count": 3,
   "id": "b232abd4",
   "metadata": {
    "execution": {
     "iopub.execute_input": "2025-03-23T17:53:09.155137Z",
     "iopub.status.busy": "2025-03-23T17:53:09.154832Z",
     "iopub.status.idle": "2025-03-23T17:53:09.601145Z",
     "shell.execute_reply": "2025-03-23T17:53:09.600132Z"
    },
    "papermill": {
     "duration": 0.45197,
     "end_time": "2025-03-23T17:53:09.602748",
     "exception": false,
     "start_time": "2025-03-23T17:53:09.150778",
     "status": "completed"
    },
    "tags": []
   },
   "outputs": [
    {
     "name": "stderr",
     "output_type": "stream",
     "text": [
      "/usr/local/lib/python3.10/dist-packages/seaborn/_oldcore.py:1119: FutureWarning: use_inf_as_na option is deprecated and will be removed in a future version. Convert inf values to NaN before operating instead.\n",
      "  with pd.option_context('mode.use_inf_as_na', True):\n"
     ]
    },
    {
     "data": {
      "image/png": "[encoded data removed]",
      "text/plain": [
       "<Figure size 640x480 with 1 Axes>"
      ]
     },
     "metadata": {},
     "output_type": "display_data"
    }
   ],
   "source": [
    "# Checking the distribution of Income\n",
    "sns.histplot(df['Income'], kde=True)\n",
    "plt.title('Income Distribution')\n",
    "plt.show()"
   ]
  },
  {
   "cell_type": "markdown",
   "id": "d27d8d06",
   "metadata": {
    "papermill": {
     "duration": 0.003949,
     "end_time": "2025-03-23T17:53:09.611030",
     "exception": false,
     "start_time": "2025-03-23T17:53:09.607081",
     "status": "completed"
    },
    "tags": []
   },
   "source": [
    "\n",
    "## Hypothesis Testing\n",
    "Conduct a statistical test to verify if the average income in the dataset is significantly different from the hypothesized average income of $50,000.\n"
   ]
  },
  {
   "cell_type": "code",
   "execution_count": 4,
   "id": "6df6a804",
   "metadata": {
    "execution": {
     "iopub.execute_input": "2025-03-23T17:53:09.620366Z",
     "iopub.status.busy": "2025-03-23T17:53:09.620042Z",
     "iopub.status.idle": "2025-03-23T17:53:10.006260Z",
     "shell.execute_reply": "2025-03-23T17:53:10.005169Z"
    },
    "papermill": {
     "duration": 0.393157,
     "end_time": "2025-03-23T17:53:10.008208",
     "exception": false,
     "start_time": "2025-03-23T17:53:09.615051",
     "status": "completed"
    },
    "tags": []
   },
   "outputs": [
    {
     "data": {
      "image/png": "[encoded data removed]",
      "text/plain": [
       "<Figure size 640x480 with 2 Axes>"
      ]
     },
     "metadata": {},
     "output_type": "display_data"
    }
   ],
   "source": [
    "# Checking correlations between continuous features\n",
    "continuous_features = ['Income', 'MntWines', 'MntMeatProducts', 'MntFishProducts', 'MntSweetProducts', 'MntGoldProds']\n",
    "correlation_matrix = df[continuous_features].corr()\n",
    "sns.heatmap(correlation_matrix, annot=True, cmap='coolwarm')\n",
    "plt.title('Correlation Matrix of Continuous Features')\n",
    "plt.show()"
   ]
  },
  {
   "cell_type": "markdown",
   "id": "ab91c5a1",
   "metadata": {
    "papermill": {
     "duration": 0.005724,
     "end_time": "2025-03-23T17:53:10.019591",
     "exception": false,
     "start_time": "2025-03-23T17:53:10.013867",
     "status": "completed"
    },
    "tags": []
   },
   "source": [
    "\n",
    "## Regression Analysis\n",
    "Utilize linear regression to determine how well variables such as income predict wine purchases.\n"
   ]
  },
  {
   "cell_type": "code",
   "execution_count": 5,
   "id": "5645cda6",
   "metadata": {
    "execution": {
     "iopub.execute_input": "2025-03-23T17:53:10.031864Z",
     "iopub.status.busy": "2025-03-23T17:53:10.031536Z",
     "iopub.status.idle": "2025-03-23T17:53:10.040047Z",
     "shell.execute_reply": "2025-03-23T17:53:10.039107Z"
    },
    "papermill": {
     "duration": 0.016594,
     "end_time": "2025-03-23T17:53:10.041685",
     "exception": false,
     "start_time": "2025-03-23T17:53:10.025091",
     "status": "completed"
    },
    "tags": []
   },
   "outputs": [
    {
     "name": "stdout",
     "output_type": "stream",
     "text": [
      "T-test for average income hypothesis: T-statistic = 3.68, P-value = 0.000\n"
     ]
    }
   ],
   "source": [
    "# T-test: Average income is $50,000\n",
    "t_stat, p_val = stats.ttest_1samp(df['Income'].dropna(), 50000)\n",
    "print(f\"T-test for average income hypothesis: T-statistic = {t_stat:.2f}, P-value = {p_val:.3f}\")"
   ]
  },
  {
   "cell_type": "markdown",
   "id": "4c35ade1",
   "metadata": {
    "papermill": {
     "duration": 0.0054,
     "end_time": "2025-03-23T17:53:10.052905",
     "exception": false,
     "start_time": "2025-03-23T17:53:10.047505",
     "status": "completed"
    },
    "tags": []
   },
   "source": [
    "\n",
    "## Factor Analysis\n",
    "Apply factor analysis to identify latent structures within the financial behaviors exhibited in the dataset.\n"
   ]
  },
  {
   "cell_type": "code",
   "execution_count": 6,
   "id": "38ce4f55",
   "metadata": {
    "execution": {
     "iopub.execute_input": "2025-03-23T17:53:10.065530Z",
     "iopub.status.busy": "2025-03-23T17:53:10.065172Z",
     "iopub.status.idle": "2025-03-23T17:53:10.095786Z",
     "shell.execute_reply": "2025-03-23T17:53:10.094690Z"
    },
    "papermill": {
     "duration": 0.039006,
     "end_time": "2025-03-23T17:53:10.097537",
     "exception": false,
     "start_time": "2025-03-23T17:53:10.058531",
     "status": "completed"
    },
    "tags": []
   },
   "outputs": [
    {
     "name": "stdout",
     "output_type": "stream",
     "text": [
      "Regression Analysis: Coefficient = 0.01, Intercept = -308.27\n"
     ]
    }
   ],
   "source": [
    "# Using Income to predict MntWines\n",
    "X = df[['Income']]\n",
    "y = df['MntWines']\n",
    "model = LinearRegression()\n",
    "model.fit(X, y)\n",
    "print(f\"Regression Analysis: Coefficient = {model.coef_[0]:.2f}, Intercept = {model.intercept_:.2f}\")"
   ]
  },
  {
   "cell_type": "code",
   "execution_count": 7,
   "id": "970f4cbd",
   "metadata": {
    "execution": {
     "iopub.execute_input": "2025-03-23T17:53:10.110697Z",
     "iopub.status.busy": "2025-03-23T17:53:10.110299Z",
     "iopub.status.idle": "2025-03-23T17:53:10.151964Z",
     "shell.execute_reply": "2025-03-23T17:53:10.150638Z"
    },
    "papermill": {
     "duration": 0.050381,
     "end_time": "2025-03-23T17:53:10.153750",
     "exception": false,
     "start_time": "2025-03-23T17:53:10.103369",
     "status": "completed"
    },
    "tags": []
   },
   "outputs": [
    {
     "name": "stdout",
     "output_type": "stream",
     "text": [
      "Factor Analysis Results:\n",
      "    Factor1   Factor2\n",
      "0  0.314651 -1.087253\n",
      "1 -0.254878  1.002645\n",
      "2  0.965354  0.512190\n",
      "3 -1.206087 -0.009075\n",
      "4  0.322136  0.917614\n"
     ]
    }
   ],
   "source": [
    "# Factor analysis on selected financial features\n",
    "fa = FactorAnalysis(n_components=2)\n",
    "df_factors = fa.fit_transform(df[continuous_features])\n",
    "factor_df = pd.DataFrame(df_factors, columns=['Factor1', 'Factor2'])\n",
    "print(\"Factor Analysis Results:\")\n",
    "print(factor_df.head())"
   ]
  },
  {
   "cell_type": "code",
   "execution_count": 8,
   "id": "808b32a0",
   "metadata": {
    "execution": {
     "iopub.execute_input": "2025-03-23T17:53:10.167087Z",
     "iopub.status.busy": "2025-03-23T17:53:10.166739Z",
     "iopub.status.idle": "2025-03-23T17:53:10.172622Z",
     "shell.execute_reply": "2025-03-23T17:53:10.171347Z"
    },
    "papermill": {
     "duration": 0.014274,
     "end_time": "2025-03-23T17:53:10.174187",
     "exception": false,
     "start_time": "2025-03-23T17:53:10.159913",
     "status": "completed"
    },
    "tags": []
   },
   "outputs": [
    {
     "name": "stdout",
     "output_type": "stream",
     "text": [
      "\n",
      "Summary of Findings:\n",
      "1. Income distribution is analyzed and visualized.\n",
      "2. Key financial metrics show varying degrees of correlation.\n",
      "3. Hypothesis testing confirms that the average income is significantly different from $50,000.\n",
      "4. Regression analysis suggests that as Income increases, expenditures on wines also tend to increase.\n",
      "5. Factor analysis identifies two latent factors underlying financial spending behaviors.\n"
     ]
    }
   ],
   "source": [
    "# Documentation of findings\n",
    "print(\"\\nSummary of Findings:\")\n",
    "print(\"1. Income distribution is analyzed and visualized.\")\n",
    "print(\"2. Key financial metrics show varying degrees of correlation.\")\n",
    "print(\"3. Hypothesis testing confirms that the average income is significantly different from $50,000.\")\n",
    "print(\"4. Regression analysis suggests that as Income increases, expenditures on wines also tend to increase.\")\n",
    "print(\"5. Factor analysis identifies two latent factors underlying financial spending behaviors.\")"
   ]
  }
 ],
 "metadata": {
  "kaggle": {
   "accelerator": "none",
   "dataSources": [
    {
     "datasetId": 1046184,
     "sourceId": 3263541,
     "sourceType": "datasetVersion"
    }
   ],
   "dockerImageVersionId": 30918,
   "isGpuEnabled": false,
   "isInternetEnabled": true,
   "language": "python",
   "sourceType": "notebook"
  },
  "kernelspec": {
   "display_name": "Python 3",
   "language": "python",
   "name": "python3"
  },
  "language_info": {
   "codemirror_mode": {
    "name": "ipython",
    "version": 3
   },
   "file_extension": ".py",
   "mimetype": "text/x-python",
   "name": "python",
   "nbconvert_exporter": "python",
   "pygments_lexer": "ipython3",
   "version": "3.10.12"
  },
  "papermill": {
   "default_parameters": {},
   "duration": 7.442658,
   "end_time": "2025-03-23T17:53:10.900063",
   "environment_variables": {},
   "exception": null,
   "input_path": "__notebook__.ipynb",
   "output_path": "__notebook__.ipynb",
   "parameters": {},
   "start_time": "2025-03-23T17:53:03.457405",
   "version": "2.6.0"
  }
 },
 "nbformat": 4,
 "nbformat_minor": 5
}
